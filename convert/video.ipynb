{
 "cells": [
  {
   "cell_type": "code",
   "execution_count": 1,
   "id": "3019ae9c-388d-4e57-8d7b-87fe589fc97f",
   "metadata": {},
   "outputs": [],
   "source": [
    "import torch\n",
    "import numpy as np\n",
    "import cv2\n",
    "import imageio"
   ]
  },
  {
   "cell_type": "code",
   "execution_count": 85,
   "id": "3ec25f94-23dc-4ef5-861c-f0a07bea20bb",
   "metadata": {},
   "outputs": [],
   "source": [
    "def write_video(filename, frames, fps):\n",
    "    # Get the width and height from the first frame\n",
    "    height, width, channels = frames[0].shape\n",
    "\n",
    "    # Open a video writer\n",
    "    with imageio.get_writer(filename, fps=fps, codec='ffv1') as writer:\n",
    "        for frame in frames:\n",
    "            # Remove the alpha channel by converting the frame from RGBA to RGB\n",
    "            # rgb_frame = frame[:, :, :3]\n",
    "            # Write the frame to the video\n",
    "            writer.append_data(frame.numpy())"
   ]
  },
  {
   "cell_type": "code",
   "execution_count": 94,
   "id": "1e1e4d4e-dba9-453a-acb8-a9e228160f79",
   "metadata": {},
   "outputs": [],
   "source": [
    "def write_video(filename, frames, codec = cv2.VideoWriter_fourcc(*'FFV1'), color=None):\n",
    "    if color is None:\n",
    "        color = len(frames.shape) == 4\n",
    "    # Define the video codec and create a VideoWriter object\n",
    "    writer = cv2.VideoWriter(filename, codec, 30.0, (frames.shape[2], frames.shape[1]), isColor=color)\n",
    "    # Write the frames to the video file\n",
    "    for frame in frames:\n",
    "        writer.write(frame.numpy())\n",
    "\n",
    "    # Release the VideoWriter object\n",
    "    writer.release()\n",
    "    cv2.destroyAllWindows()"
   ]
  },
  {
   "cell_type": "code",
   "execution_count": 95,
   "id": "712e6230-56a6-4c60-83fa-74e8cca9f317",
   "metadata": {},
   "outputs": [
    {
     "name": "stderr",
     "output_type": "stream",
     "text": [
      "OpenCV: FFMPEG: tag 0x0000001e/'????' is not found (format 'avi / AVI (Audio Video Interleaved)')'\n",
      "[ERROR:0@1595.111] global /io/opencv/modules/videoio/src/cap.cpp (595) open VIDEOIO(CV_IMAGES): raised OpenCV exception:\n",
      "\n",
      "OpenCV(4.5.5) /io/opencv/modules/videoio/src/cap_images.cpp:253: error: (-5:Bad argument) CAP_IMAGES: can't find starting number (in the name of file): test.avi in function 'icvExtractPattern'\n",
      "\n",
      "\n"
     ]
    }
   ],
   "source": [
    "# Assuming `tensor` is your 3D PyTorch tensor with shape (N, H, W)\n",
    "tensor = torch.randint(0, 256, (10, 480, 640, 4), dtype=torch.uint8)  # Example tensor\n",
    "write_video(\"test.avi\", tensor, 30)"
   ]
  },
  {
   "cell_type": "code",
   "execution_count": 91,
   "id": "84085bce-a1a7-48d5-82f9-817dbadd77e7",
   "metadata": {},
   "outputs": [
    {
     "data": {
      "text/html": [
       "<video src=\"test.mp4\" controls  >\n",
       "      Your browser does not support the <code>video</code> element.\n",
       "    </video>"
      ],
      "text/plain": [
       "<IPython.core.display.Video object>"
      ]
     },
     "execution_count": 91,
     "metadata": {},
     "output_type": "execute_result"
    }
   ],
   "source": [
    "from IPython.display import Video\n",
    "\n",
    "Video(\"test.mp4\")"
   ]
  }
 ],
 "metadata": {
  "kernelspec": {
   "display_name": "Python 3 (ipykernel)",
   "language": "python",
   "name": "python3"
  },
  "language_info": {
   "codemirror_mode": {
    "name": "ipython",
    "version": 3
   },
   "file_extension": ".py",
   "mimetype": "text/x-python",
   "name": "python",
   "nbconvert_exporter": "python",
   "pygments_lexer": "ipython3",
   "version": "3.10.12"
  }
 },
 "nbformat": 4,
 "nbformat_minor": 5
}
