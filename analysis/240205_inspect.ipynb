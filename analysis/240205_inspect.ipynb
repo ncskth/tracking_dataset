{
 "cells": [
  {
   "cell_type": "markdown",
   "id": "d170dd59-b8d2-4031-97af-fdff83a9f017",
   "metadata": {},
   "source": [
    "# DEBUG: Dataset for Event-Based Unadorned Geometries"
   ]
  },
  {
   "cell_type": "code",
   "execution_count": 77,
   "id": "abf1788f-ab34-4e73-b1e5-c686352ca428",
   "metadata": {},
   "outputs": [],
   "source": [
    "import h5py\n",
    "import torch\n",
    "import torchvision\n",
    "import matplotlib.pyplot as plt\n",
    "import numpy as np\n",
    "import tqdm"
   ]
  },
  {
   "cell_type": "code",
   "execution_count": 78,
   "id": "93b48328-cdcf-4984-b67b-c788a015ba03",
   "metadata": {},
   "outputs": [
    {
     "name": "stdout",
     "output_type": "stream",
     "text": [
      "../.venv/lib/python3.10/site-packages/h5py/tests/data_files/vlen_string_s390x.h5\n",
      "../.venv/lib/python3.10/site-packages/h5py/tests/data_files/vlen_string_dset_utc.h5\n",
      "../.venv/lib/python3.10/site-packages/h5py/tests/data_files/vlen_string_dset.h5\n",
      "../basic_shapes/triangle/shear/2024_02_04_21_41_21_triagle_none_shear_left_processed/frames.h5\n",
      "../basic_shapes/triangle/shear/2024_02_04_21_47_02_triagle_none_shear_left_processed/frames.h5\n",
      "../basic_shapes/triangle/shear/2024_02_04_21_53_21_triagle_none_shear_right_processed/frames.h5\n",
      "../basic_shapes/triangle/shear/2024_02_04_21_56_01_triagle_none_shear_right_processed/frames.h5\n",
      "../basic_shapes/triangle/rotation/2024_02_04_20_18_40_triagle_none_rot_left_processed/frames.h5\n",
      "../basic_shapes/triangle/rotation/2024_02_04_20_21_45_triagle_none_rot_left_processed/frames.h5\n",
      "../basic_shapes/triangle/rotation/2024_02_04_20_26_56_triagle_none_rot_right_processed/frames.h5\n",
      "../basic_shapes/triangle/rotation/2024_02_04_20_30_29_triagle_none_rot_right_processed/frames.h5\n",
      "../basic_shapes/triangle/affine/2024_02_04_21_13_14_triagle_none_affine_right_processed/frames.h5\n",
      "../basic_shapes/triangle/affine/2024_02_04_21_33_52_triagle_none_affine_left_processed/frames.h5\n",
      "../basic_shapes/triangle/affine/2024_02_04_21_19_59_triagle_none_affine_right_processed/frames.h5\n",
      "../basic_shapes/triangle/affine/2024_02_04_21_29_03_triagle_none_affine_left_processed/frames.h5\n",
      "../basic_shapes/triangle/scaling/2024_02_04_20_54_29_triagle_none_scale_left_processed/frames.h5\n",
      "../basic_shapes/triangle/scaling/2024_02_04_20_51_31_triagle_none_scale_left_processed/frames.h5\n",
      "../basic_shapes/triangle/scaling/2024_02_04_20_57_37_triagle_none_scale_right_processed/frames.h5\n",
      "../basic_shapes/triangle/scaling/2024_02_04_21_01_19_triagle_none_scale_right_processed/frames.h5\n",
      "../basic_shapes/triangle/translation/2024_02_04_20_00_38_triagle_none_trans_right_processed/frames.h5\n",
      "../basic_shapes/triangle/translation/2024_02_04_20_09_34_triagle_none_trans_left_processed/frames.h5\n",
      "../basic_shapes/triangle/translation/2024_02_04_20_03_36_triagle_none_trans_right_processed/frames.h5\n",
      "../basic_shapes/triangle/translation/2024_02_04_20_06_44_triagle_none_trans_left_processed/frames.h5\n",
      "../basic_shapes/blob/scale_rotate/2024_04_18_16_28_43_blob_none_scale_rot_left_processed/frames.h5\n",
      "../basic_shapes/blob/scale_rotate/2024_04_18_16_24_05_blob_none_scale_rot_left_processed/frames.h5\n",
      "../basic_shapes/blob/scale_rotate/2024_04_18_16_38_31_blob_none_scale_rot_right_processed/frames.h5\n",
      "../basic_shapes/blob/scale_rotate/2024_04_18_16_34_54_blob_none_scale_rot_right_processed/frames.h5\n",
      "../basic_shapes/blob/scale_shear/2024_04_18_17_20_03_blob_none_scale_shear_right_processed/frames.h5\n",
      "../basic_shapes/blob/scale_shear/2024_04_18_17_00_24_blob_none_scale_shear_left_processed/frames.h5\n",
      "../basic_shapes/blob/scale_shear/2024_04_18_17_16_08_blob_none_scale_shear_right_processed/frames.h5\n",
      "../basic_shapes/blob/scale_shear/2024_04_18_17_03_17_blob_none_scale_shear_left_processed/frames.h5\n",
      "../basic_shapes/blob/translate_scale_shear/2024_04_22_13_15_48_blob_none_trans_scale_shear_left_processed/frames.h5\n",
      "../basic_shapes/blob/translate_scale_shear/2024_04_22_12_48_19_blob_none_trans_scale_shear_left_processed/frames.h5\n",
      "../basic_shapes/blob/translate_scale_shear/2024_04_22_13_19_30_blob_none_trans_scale_shear_right_processed/frames.h5\n",
      "../basic_shapes/blob/translate_scale_shear/2024_04_22_13_21_58_blob_none_trans_scale_shear_right_processed/frames.h5\n",
      "../basic_shapes/blob/scale/2024_03_25_16_11_42_blob_none_scale_right_processed/frames.h5\n",
      "../basic_shapes/blob/scale/2024_03_25_15_21_07_blob_none_scale_left_processed/frames.h5\n",
      "../basic_shapes/blob/scale/2024_03_25_16_08_29_blob_none_scale_left_processed/frames.h5\n",
      "../basic_shapes/blob/scale/2024_03_25_15_24_03_blob_none_scale_right_processed/frames.h5\n",
      "../basic_shapes/blob/scale/2024_03_23_16_48_42_blob_none_scale_right_processed/frames.h5\n",
      "../basic_shapes/blob/rotation/2024_03_25_16_22_33_blob_none_rot_left_processed/frames.h5\n",
      "../basic_shapes/blob/rotation/2024_03_25_16_25_15_blob_none_rot_right_processed/frames.h5\n",
      "../basic_shapes/blob/rotation/2024_04_05_15_48_39_blob_none_rot_left_processed/frames.h5\n",
      "../basic_shapes/blob/rotation/2024_04_05_15_51_28_blob_none_rot_right_processed/frames.h5\n",
      "../basic_shapes/blob/scale_rotate_shear/2024_04_22_14_23_11_blob_none_scale_rot_shear_right_processed/frames.h5\n",
      "../basic_shapes/blob/scale_rotate_shear/2024_04_22_14_20_23_blob_none_scale_rot_shear_left_processed/frames.h5\n",
      "../basic_shapes/blob/scale_rotate_shear/2024_04_22_14_29_39_blob_none_scale_rot_shear_right_processed/frames.h5\n",
      "../basic_shapes/blob/scale_rotate_shear/2024_04_22_14_25_57_blob_none_scale_rot_shear_left_processed/frames.h5\n",
      "../basic_shapes/blob/translate_shear/2024_04_17_14_59_34_blob_none_trans_shear_left_processed/frames.h5\n",
      "../basic_shapes/blob/translate_shear/2024_04_17_15_13_06_blob_none_trans_shear_right_processed/frames.h5\n",
      "../basic_shapes/blob/translate_shear/2024_04_17_14_56_55_blob_none_trans_shear_left_processed/frames.h5\n",
      "../basic_shapes/blob/translate_shear/2024_04_17_15_08_26_blob_none_trans_shear_right_processed/frames.h5\n",
      "../basic_shapes/blob/translate_scale_rotate/2024_04_18_17_26_54_blob_none_trans_scale_rot_left_processed/frames.h5\n",
      "../basic_shapes/blob/translate_scale_rotate/2024_04_18_17_34_12_blob_none_trans_scale_rot_right_processed/frames.h5\n",
      "../basic_shapes/blob/translate_scale_rotate/2024_04_18_17_37_42_blob_none_trans_scale_rot_right_processed/frames.h5\n",
      "../basic_shapes/blob/translate_scale_rotate/2024_04_18_17_29_27_blob_none_trans_scale_rot_left_processed/frames.h5\n",
      "../basic_shapes/blob/affine/2024_03_27_13_33_02_blob_none_affine_right_processed/frames.h5\n",
      "../basic_shapes/blob/affine/2024_03_27_13_26_55_blob_none_affine_left_processed/frames.h5\n",
      "../basic_shapes/blob/affine/2024_03_27_13_29_55_blob_none_affine_left_processed/frames.h5\n",
      "../basic_shapes/blob/affine/2024_04_05_14_28_44_blob_none_affine_right_processed/frames.h5\n",
      "../basic_shapes/blob/translation/2024_03_23_16_36_43_blob_none_trans_right_processed/frames.h5\n",
      "../basic_shapes/blob/translation/2024_03_23_16_42_14_blob_none_trans_left_processed/frames.h5\n",
      "../basic_shapes/blob/translation/2024_03_23_16_29_40_blob_none_trans_left_processed/frames.h5\n",
      "../basic_shapes/blob/translation/2024_03_23_16_25_21_blob_none_trans_right_processed/frames.h5\n",
      "../basic_shapes/blob/skew/2024_04_05_15_43_37_blob_none_skew_right_processed/frames.h5\n",
      "../basic_shapes/blob/skew/2024_04_05_15_40_42_blob_none_skew_left_processed/frames.h5\n",
      "../basic_shapes/blob/skew/2024_04_05_14_58_26_blob_none_skew_right_processed/frames.h5\n",
      "../basic_shapes/blob/skew/2024_04_05_14_55_30_blob_none_skew_left_processed/frames.h5\n",
      "../basic_shapes/blob/scale_translate/2024_04_17_14_35_59_blob_none_trans_scale_left_processed/frames.h5\n",
      "../basic_shapes/blob/scale_translate/2024_04_17_14_38_46_blob_none_trans_scale_left_processed/frames.h5\n",
      "../basic_shapes/blob/scale_translate/2024_04_17_14_48_54_blob_none_trans_scale_right_processed/frames.h5\n",
      "../basic_shapes/blob/scale_translate/2024_04_17_14_43_05_blob_none_trans_scale_right_processed/frames.h5\n",
      "../basic_shapes/blob/translate_rotate_shear/2024_04_22_13_54_36_blob_none_trans_rot_shear_right_processed/frames.h5\n",
      "../basic_shapes/blob/translate_rotate_shear/2024_04_22_14_03_10_blob_none_trans_rot_shear_right_processed/frames.h5\n",
      "../basic_shapes/blob/translate_rotate_shear/2024_04_22_13_49_19_blob_none_trans_rot_shear_left_processed/frames.h5\n",
      "../basic_shapes/blob/translate_rotate_shear/2024_04_22_13_51_54_blob_none_trans_rot_shear_left_processed/frames.h5\n",
      "../basic_shapes/blob/translate_rotate/2024_04_17_14_00_27_blob_none_trans_rot_left_processed/frames.h5\n",
      "../basic_shapes/blob/translate_rotate/2024_04_16_14_32_03_blob_none_trans_rot_right_processed/frames.h5\n",
      "../basic_shapes/blob/translate_rotate/2024_04_17_14_17_18_blob_none_trans_rot_right_processed/frames.h5\n",
      "../basic_shapes/blob/translate_rotate/2024_04_17_14_20_07_blob_none_trans_rot_left_processed/frames.h5\n",
      "../basic_shapes/blob/rotate_shear/2024_04_22_12_33_52_blob_none_trans_rot_shear_left_processed/frames.h5\n",
      "../basic_shapes/blob/rotate_shear/2024_04_22_12_31_13_blob_none_trans_rot_shear_right_processed/frames.h5\n",
      "../basic_shapes/blob/rotate_shear/2024_04_22_12_36_25_blob_none_trans_rot_shear_right_processed/frames.h5\n",
      "../basic_shapes/blob/rotate_shear/2024_04_22_12_39_02_blob_none_trans_rot_shear_left_processed/frames.h5\n",
      "../basic_shapes/circle/shear/2024_01_26_14_54_39_circle_none_shear_right_processed/frames.h5\n",
      "../basic_shapes/circle/shear/2024_01_26_15_06_01_circle_none_shear_left_processed/frames.h5\n",
      "../basic_shapes/circle/shear/2024_01_26_15_02_39_circle_none_shear_left_processed/frames.h5\n",
      "../basic_shapes/circle/shear/2024_01_26_14_59_03_circle_none_shear_right_processed/frames.h5\n",
      "../basic_shapes/circle/affine/2024_01_30_13_33_52_circle_none_affine_left_processed/frames.h5\n",
      "../basic_shapes/circle/affine/2024_01_30_13_12_31_circle_none_affine_right_processed/frames.h5\n",
      "../basic_shapes/circle/affine/2024_01_30_13_27_15_circle_none_affine_left_processed/frames.h5\n",
      "../basic_shapes/circle/affine/2024_01_30_13_24_07_circle_none_affine_right_processed/frames.h5\n",
      "../basic_shapes/circle/scaling/2024_01_26_14_48_45_circle_none_scale_right_processed/frames.h5\n",
      "../basic_shapes/circle/scaling/2024_01_26_14_34_54_circle_none_scale_left_processed/frames.h5\n",
      "../basic_shapes/circle/scaling/2024_01_26_14_42_04_circle_none_scale_left_processed/frames.h5\n",
      "../basic_shapes/circle/scaling/2024_01_26_14_31_31_circle_none_scale_right_processed/frames.h5\n",
      "../basic_shapes/circle/translation/2024_01_22_12_04_52_circle_none_trans_right_processed/frames.h5\n",
      "../basic_shapes/circle/translation/2024_01_22_12_12_32_circle_none_trans_left_processed/frames.h5\n",
      "../basic_shapes/circle/translation/2024_01_22_12_01_03_circle_none_trans_right_processed/frames.h5\n",
      "../basic_shapes/circle/translation/2024_01_22_12_15_51_circle_none_trans_left_processed/frames.h5\n",
      "../basic_shapes/square/scale/2024_03_04_17_18_27_square_none_scale_left_processed/frames.h5\n",
      "../basic_shapes/square/scale/2024_03_04_17_22_50_square_none_scale_right_processed/frames.h5\n",
      "../basic_shapes/square/scale/2024_03_04_17_15_50_square_none_scale_left_processed/frames.h5\n",
      "../basic_shapes/square/scale/2024_03_04_17_25_52_square_none_scale_right_processed/frames.h5\n",
      "../basic_shapes/square/rotation/2024_03_04_16_22_54_square_none_rot_right_processed/frames.h5\n",
      "../basic_shapes/square/rotation/2024_03_04_16_16_37_square_none_rot_left_processed/frames.h5\n",
      "../basic_shapes/square/rotation/2024_03_04_18_04_27_square_none_rot_left_processed/frames.h5\n",
      "../basic_shapes/square/rotation/2024_03_04_18_08_01_square_none_rot_right_processed/frames.h5\n",
      "../basic_shapes/square/affine/2024_03_04_17_41_58_square_none_affine_right_processed/frames.h5\n",
      "../basic_shapes/square/affine/2024_03_04_17_49_53_square_none_affine_right_processed/frames.h5\n",
      "../basic_shapes/square/affine/2024_03_04_17_38_58_square_none_affine_left_processed/frames.h5\n",
      "../basic_shapes/square/affine/2024_03_04_17_03_33_square_none_affine_left_processed/frames.h5\n",
      "../basic_shapes/square/translation/2024_03_04_16_04_15_square_none_trans_right_processed/frames.h5\n",
      "../basic_shapes/square/translation/2024_03_04_15_59_57_square_none_trans_right_processed/frames.h5\n",
      "../basic_shapes/square/translation/2024_03_04_16_10_40_square_none_trans_left_processed/frames.h5\n",
      "../basic_shapes/square/translation/2024_03_04_16_07_55_square_none_trans_left_processed/frames.h5\n",
      "../basic_shapes/square/skew/2024_03_04_18_18_49_square_none_skew_right_processed/frames.h5\n",
      "../basic_shapes/square/skew/2024_03_04_16_43_43_square_none_skew_right_processed/frames.h5\n",
      "../basic_shapes/square/skew/2024_03_04_16_40_43_square_none_skew_left_processed/frames.h5\n",
      "../basic_shapes/square/skew/2024_03_04_18_21_53_square_none_skew_left_processed/frames.h5\n"
     ]
    }
   ],
   "source": [
    "!find ../ -name \"*.h5\""
   ]
  },
  {
   "cell_type": "code",
   "execution_count": 60,
   "id": "5654d3cd-fdc0-43ee-92c3-37ca17c807c5",
   "metadata": {},
   "outputs": [
    {
     "name": "stdout",
     "output_type": "stream",
     "text": [
      "events.aedat4  frames.h5  metadata.txt\tpositions.json\n"
     ]
    }
   ],
   "source": [
    "!ls ../basic_shapes/triangle/shear/2024_02_04_21_47_02_triagle_none_shear_left_processed"
   ]
  },
  {
   "cell_type": "code",
   "execution_count": 79,
   "id": "2ce63aa9-d621-4ee9-934a-9317acbcea58",
   "metadata": {},
   "outputs": [],
   "source": [
    "file_rec = \"../basic_shapes/triangle/shear/2024_02_04_21_47_02_triagle_none_shear_left_processed/frames.h5\"\n",
    "#file_rec = \"frames.h5\"\n",
    "# \"../basic_shapes/triangle/affine/2024_02_04_21_13_14_triagle_none_affine_right_processed/frames.h5\""
   ]
  },
  {
   "cell_type": "code",
   "execution_count": 80,
   "id": "6bd379b1-bd69-4601-898f-056a8fd76806",
   "metadata": {},
   "outputs": [],
   "source": [
    "with h5py.File(file_rec) as f:\n",
    "    co = f[\"frame_keys\"][:]\n",
    "    val = torch.from_numpy(f[\"frame_values\"][:]).int()"
   ]
  },
  {
   "cell_type": "code",
   "execution_count": 81,
   "id": "3427c582-66f2-4525-aefc-e8a52cc8c75a",
   "metadata": {},
   "outputs": [],
   "source": [
    "to_list = lambda x: np.array([x[i] for i in range(4)])"
   ]
  },
  {
   "cell_type": "code",
   "execution_count": 82,
   "id": "147c07fe-bc2c-449c-ba92-9c653a3af100",
   "metadata": {},
   "outputs": [
    {
     "name": "stderr",
     "output_type": "stream",
     "text": [
      "100%|██| 1000000/1000000 [00:02<00:00, 440837.19it/s]\n"
     ]
    }
   ],
   "source": [
    "# coos = np.vectorize(to_list, signature=\"()->(4)\")(co)\n",
    "coos = []\n",
    "for i in tqdm.tqdm(co[-1000000:]):\n",
    "    coos.append(to_list(i))"
   ]
  },
  {
   "cell_type": "code",
   "execution_count": 65,
   "id": "e77befba-7f73-47f5-ac1e-8bd1455c2b62",
   "metadata": {},
   "outputs": [],
   "source": [
    "coos = torch.from_numpy(np.array(coos, dtype=np.int64))"
   ]
  },
  {
   "cell_type": "code",
   "execution_count": 66,
   "id": "fc1bad5b-6291-47f5-84be-7c1b7082ae32",
   "metadata": {},
   "outputs": [
    {
     "data": {
      "text/plain": [
       "(torch.Size([1000000, 4]), torch.Size([1000000]))"
      ]
     },
     "execution_count": 66,
     "metadata": {},
     "output_type": "execute_result"
    }
   ],
   "source": [
    "sp = torch.sparse_coo_tensor(coos.T, val[-1000000:])\n",
    "coos.shape, val[-1000000:].shape"
   ]
  },
  {
   "cell_type": "code",
   "execution_count": 25,
   "id": "c983b8a0-e2ad-48c0-8ff5-883036af8ccf",
   "metadata": {},
   "outputs": [],
   "source": [
    "def save_video_from_events(events, filename, fps=30):\n",
    "    \"\"\"\n",
    "    Save a video from a sparse tensor of events\n",
    "    \"\"\"\n",
    "    # Ensure the tensor is on the CPU and convert to numpy array\n",
    "    frames = tensor.cpu().numpy()\n",
    "\n",
    "    # Ensure the frames are in uint8 format\n",
    "    if frames.dtype != np.uint8:\n",
    "        frames = (frames * 255).astype(np.uint8)\n",
    "\n",
    "    # Create a video writer\n",
    "    writer = imageio.get_writer(filename, fps=fps, codec='ffv1')\n",
    "\n",
    "    # Write each frame to the video\n",
    "    for frame in frames:\n",
    "        writer.append_data(frame)\n",
    "\n",
    "    # Close the writer\n",
    "    writer.close()"
   ]
  },
  {
   "cell_type": "code",
   "execution_count": null,
   "id": "debba6c0-09c1-4386-b470-bfa8cbc9048c",
   "metadata": {},
   "outputs": [],
   "source": [
    "video.max()"
   ]
  },
  {
   "cell_type": "code",
   "execution_count": 29,
   "id": "e65fbe1b-bbfe-4463-8ac3-d4a115272c33",
   "metadata": {},
   "outputs": [
    {
     "name": "stderr",
     "output_type": "stream",
     "text": [
      "100%|███████████████████████████████████████████████████████████████████| 100/100 [00:01<00:00, 66.31it/s]\n"
     ]
    }
   ],
   "source": [
    "def write_sparse_to_file(frames):\n",
    "    f = []\n",
    "    for i in tqdm.trange(count):\n",
    "        f.append(frames[i + start].to_dense().clip(0, 1))\n",
    "    f = torch.stack(f) * 255\n",
    "    zeros = torch.zeros(len(f), 1, *f.shape[2:])\n",
    "    return torch.concat([f, zeros], dim=1).permute(0, 3, 2, 1)\n",
    "\n",
    "video = to_frames(sp, 88014 - 100, 100)"
   ]
  },
  {
   "cell_type": "code",
   "execution_count": 24,
   "id": "f495cd7b-159e-4fee-890a-b17675716e0d",
   "metadata": {},
   "outputs": [],
   "source": [
    "save_video_from_tensor(video, \"frames"
   ]
  },
  {
   "cell_type": "markdown",
   "id": "21700577-300c-43bf-bedd-88ccef422ec4",
   "metadata": {},
   "source": [
    "<video src=\"vid.mp4\" autoplay loop controls/>"
   ]
  },
  {
   "cell_type": "markdown",
   "id": "8e100743-9570-458f-8ef0-a51be39cbcca",
   "metadata": {},
   "source": [
    "# Draw masks"
   ]
  },
  {
   "cell_type": "code",
   "execution_count": 40,
   "id": "b1a3c2a3-d0c2-449b-b2c0-397e9d017e23",
   "metadata": {},
   "outputs": [],
   "source": [
    "import math\n",
    "import scipy\n",
    "import cv2\n",
    "triangle_offset =  -0;\n",
    "triangle_width = 0.29;\n",
    "triangle_height =  triangle_width / 2 * math.tan(60 * math.pi / 180);\n",
    "triangle_center = triangle_width * math.sqrt(3) / 3;\n",
    "triangle_polygon = [\n",
    "        [-(triangle_center), 0, 0],\n",
    "        [triangle_height - triangle_center, 0, -triangle_width / 2],\n",
    "        [triangle_height - triangle_center, 0, triangle_width / 2],\n",
    "        [-(triangle_center), 0, 0]\n",
    "]\n",
    "circle_radius = 0.292/2;\n",
    "iterations = 150;\n",
    "circle_polygon = []\n",
    "for i in range(iterations):\n",
    "    circle_polygon.append([\n",
    "        math.sin(2 * math.pi * i / iterations) * circle_radius, \n",
    "        0,\n",
    "        math.cos(2 * math.pi * i / iterations) * circle_radius,\n",
    "    ]);\n",
    "\n",
    "    \n",
    "offset_x = 0.28 / 2 - 0.022154 - 0.05;\n",
    "offset_z = 0.22 / 2 + 0.1 + 0.05;\n",
    "blob_polygon = [\n",
    "    [offset_x, 0, offset_z],\n",
    "    [offset_x + 0.022154, 0, offset_z],\n",
    "    [offset_x + 0.022154, 0, offset_z - 0.1],\n",
    "    [offset_x + 0.022154 + 0.05, 0, offset_z - 0.05 - 0.1],\n",
    "    [offset_x + 0.022154 + 0.05, 0, offset_z - 0.05 - 0.1 - 0.22],\n",
    "    [offset_x + 0.022154 + 0.05 - 0.28, 0, offset_z - 0.05 - 0.1 - 0.22],\n",
    "    [offset_x + 0.022154 + 0.05 - 0.28, 0, offset_z - 0.05 - 0.1 - 0.22 + 0.25],\n",
    "    [offset_x, 0, offset_z],\n",
    "]"
   ]
  },
  {
   "cell_type": "code",
   "execution_count": 70,
   "id": "c3c3ae8e-1217-42a9-8de8-b1f554f14d96",
   "metadata": {},
   "outputs": [
    {
     "data": {
      "text/plain": [
       "(153290, 9)"
      ]
     },
     "execution_count": 70,
     "metadata": {},
     "output_type": "execute_result"
    }
   ],
   "source": [
    "with h5py.File(file_rec) as f:\n",
    "    poses = f[\"triangle\"][:]\n",
    "poses.shape"
   ]
  },
  {
   "cell_type": "code",
   "execution_count": 71,
   "id": "78104106-4e87-49bc-8228-0157c46e9ccb",
   "metadata": {},
   "outputs": [
    {
     "data": {
      "text/plain": [
       "((153290, 9), torch.Size([100, 720, 1280, 3]))"
      ]
     },
     "execution_count": 71,
     "metadata": {},
     "output_type": "execute_result"
    }
   ],
   "source": [
    "poses.shape, video.shape"
   ]
  },
  {
   "cell_type": "code",
   "execution_count": 72,
   "id": "0317a891-1410-4f8b-b164-7f7d31bd36dd",
   "metadata": {},
   "outputs": [
    {
     "data": {
      "text/plain": [
       "array([ 6.4772778e+02,  3.6169006e+02, -3.3050135e-03, -1.0312347e-01,\n",
       "       -2.2988939e+00, -2.4425484e-01, -1.4966837e-01,  7.1686226e-01,\n",
       "       -6.3564724e-01], dtype=float32)"
      ]
     },
     "execution_count": 72,
     "metadata": {},
     "output_type": "execute_result"
    }
   ],
   "source": [
    "poses[0]"
   ]
  },
  {
   "cell_type": "code",
   "execution_count": 73,
   "id": "dcd06ea0-4949-4f8a-8c05-d4e2eeb5bf31",
   "metadata": {},
   "outputs": [],
   "source": [
    "camera_matrix = np.array([[1700.74372, 0, 650.172869],\n",
    "                 [0, 1700.74372, 285.398327],\n",
    "                 [0, 0, 1]])\n",
    "vec = np.array([0, 0, 0], dtype=np.float32)\n",
    "distortion_coeff = np.array([0, 0, 0, 0, 0], dtype=np.float32)"
   ]
  },
  {
   "cell_type": "code",
   "execution_count": 74,
   "id": "ee48b1d1-5c96-423f-ac91-05cbf93641f8",
   "metadata": {},
   "outputs": [
    {
     "name": "stdout",
     "output_type": "stream",
     "text": [
      "647.7278 361.69006 -0.0033050135 -0.10312347 -2.298894\n"
     ]
    },
    {
     "data": {
      "text/plain": [
       "array([[[647.72778838, 361.69005745]]])"
      ]
     },
     "execution_count": 74,
     "metadata": {},
     "output_type": "execute_result"
    }
   ],
   "source": [
    "def position_to_pixel(points, pose):\n",
    "    (px, py, cx, cy, cz, qx, qy, qz, qw) = pose\n",
    "    print(px, py, cx, cy, cz)\n",
    "    rotation = scipy.spatial.transform.Rotation.from_quat([qx, qy, qz, qw])\n",
    "    new_points = [[p[0], -p[1], -p[2]] for p in points] # Convert to opencv\n",
    "    rotated_points = rotation.apply(new_points)\n",
    "    relative_points = rotated_points + np.array([cx, -cy, -cz]) # Convert to opencv\n",
    "    projected_points, _ = cv2.projectPoints(relative_points, vec, vec, camera_matrix, distortion_coeff)\n",
    "    cx = camera_matrix[0, 2]\n",
    "    cy = camera_matrix[1, 2]\n",
    "    return projected_points# - np.array([x, 0])\n",
    "    #return projected_points - np.array([cx, cy])) * np.array([-1, 1]) + np.array([cx, cy])\n",
    "    #return (projected_points - np.array([cx, cy])) * np.array([-1, 1]) + np.array([x, y])\n",
    "\n",
    "position_to_pixel([[0, 0, 0]], poses[0])"
   ]
  },
  {
   "cell_type": "code",
   "execution_count": 83,
   "id": "14476c5d-435b-4c95-b848-340a624a1817",
   "metadata": {},
   "outputs": [
    {
     "name": "stderr",
     "output_type": "stream",
     "text": [
      "Clipping input data to the valid range for imshow with RGB data ([0..1] for floats or [0..255] for integers). Got range [0.0..255.0].\n"
     ]
    },
    {
     "name": "stdout",
     "output_type": "stream",
     "text": [
      "644.0144 362.65622 -0.008325759 -0.10444695 -2.2992797\n",
      "644.0144 362.65622 -0.008325759 -0.10444695 -2.2992797\n"
     ]
    },
    {
     "data": {
      "image/png": "[encoded data removed]",
      "text/plain": [
       "<Figure size 1200x700 with 1 Axes>"
      ]
     },
     "metadata": {},
     "output_type": "display_data"
    }
   ],
   "source": [
    "def draw_frame(frame, pose, polygon):\n",
    "    f, a = plt.subplots(1, 1, figsize=(12, 7))\n",
    "    a.imshow(frame)\n",
    "    plt.scatter([pose[0]], [pose[1]], marker=\"+\", color=\"white\")\n",
    "    center = position_to_pixel([[0,0,0]], pose).reshape(-1, 2)\n",
    "    plt.scatter([center[0,0]], [center[0,1]], marker=\"x\", color=\"red\")\n",
    "    pixels = position_to_pixel(polygon, pose).reshape(-1, 2)\n",
    "    plt_polygon = plt.Polygon(pixels, color=\"#ffffff50\")\n",
    "    a.add_patch(plt_polygon)\n",
    "\n",
    "n = 70\n",
    "draw_frame(video[n + 8], poses[n], triangle_polygon)"
   ]
  },
  {
   "cell_type": "markdown",
   "id": "a59c0de6-1aa2-44c0-94cc-e149cf0bf60b",
   "metadata": {},
   "source": [
    "# Test hdf5 layout"
   ]
  },
  {
   "cell_type": "code",
   "execution_count": null,
   "id": "6c72d56d-40f3-424d-aaa2-ed5d1d74760e",
   "metadata": {},
   "outputs": [],
   "source": [
    "!ls -alh test.hdf5"
   ]
  },
  {
   "cell_type": "code",
   "execution_count": 19,
   "id": "ad6a4701-69dc-4103-9f94-4f8234338ccd",
   "metadata": {},
   "outputs": [
    {
     "name": "stderr",
     "output_type": "stream",
     "text": [
      "100%|███████████████████████████████████████████████████████████████████████████████████████████████| 100000/100000 [01:28<00:00, 1128.61it/s]\n"
     ]
    }
   ],
   "source": [
    "with h5py.File(\"test.hdf5\", \"w\") as f:\n",
    "    for i in tqdm.trange(100000):\n",
    "        arr = np.empty((4, 100000), dtype=np.uint8)\n",
    "        f.create_dataset(str(i), data=arr)"
   ]
  },
  {
   "cell_type": "code",
   "execution_count": 2,
   "id": "557c091f-4a8e-4fac-839c-5e9867877ebf",
   "metadata": {},
   "outputs": [
    {
     "name": "stdout",
     "output_type": "stream",
     "text": [
      "2.66 ms ± 55.8 µs per loop (mean ± std. dev. of 7 runs, 100 loops each)\n"
     ]
    }
   ],
   "source": [
    "%%timeit\n",
    "n = torch.randint(0, 10000, (1,)).item()\n",
    "with h5py.File(\"test.hdf5\", \"r\") as f:\n",
    "    coos = f[f\"{n}\"][:]\n",
    "    t = torch.sparse_coo_tensor(indices=coos, values=torch.ones(len(coos[0])), dtype=torch.int8)\n",
    "t.shape"
   ]
  },
  {
   "cell_type": "code",
   "execution_count": 3,
   "id": "4a4caff9-5b36-40eb-aa2e-46bf01d76fe1",
   "metadata": {},
   "outputs": [
    {
     "name": "stdout",
     "output_type": "stream",
     "text": [
      "253 ms ± 26.4 ms per loop (mean ± std. dev. of 7 runs, 1 loop each)\n"
     ]
    }
   ],
   "source": [
    "%%timeit\n",
    "n = torch.randint(0, 10000, (1,)).item()\n",
    "with h5py.File(\"test.hdf5\", \"r\") as f:\n",
    "    coos = torch.from_numpy(f[f\"{n}\"][:]).cuda()\n",
    "    t = torch.sparse_coo_tensor(indices=coos, values=torch.ones(len(coos[0]), device=\"cuda\"), dtype=torch.int8, device=\"cuda\").to_dense()\n",
    "t.shape"
   ]
  },
  {
   "cell_type": "code",
   "execution_count": 5,
   "id": "203f5f61-0fe3-4302-9154-d98ddf7f2ae6",
   "metadata": {},
   "outputs": [
    {
     "name": "stdout",
     "output_type": "stream",
     "text": [
      "28.8 ms ± 13.2 ms per loop (mean ± std. dev. of 7 runs, 10 loops each)\n"
     ]
    }
   ],
   "source": [
    "%%timeit\n",
    "n = torch.randint(0, 10000, (1,)).item()\n",
    "with h5py.File(\"test.hdf5\", \"r\") as f:\n",
    "    coos = f[f\"{n}\"][:]\n",
    "    t = torch.sparse_coo_tensor(indices=coos, values=torch.ones(len(coos[0])), dtype=torch.int8).to_dense().cuda()\n",
    "t.shape"
   ]
  },
  {
   "cell_type": "markdown",
   "id": "b7909755-5b11-4119-86db-147475cdc1c8",
   "metadata": {},
   "source": [
    "# Test AEStream"
   ]
  },
  {
   "cell_type": "code",
   "execution_count": null,
   "id": "df8d2f27-4888-496b-958d-ce0fcc84e4c0",
   "metadata": {},
   "outputs": [],
   "source": [
    "!ls ../basic_shapes/triangle/affine/2024_02_04_21_13_14_triagle_none_affine_right_processed/"
   ]
  },
  {
   "cell_type": "code",
   "execution_count": null,
   "id": "50467584-679a-4bab-abef-d38e45e9e131",
   "metadata": {},
   "outputs": [],
   "source": [
    "import time\n",
    "with aestream.FileInput(\"../basic_shapes/triangle/affine/2024_02_04_21_13_14_triagle_none_affine_right_processed/events.aedat4\", (1280, 720)) as fp:\n",
    "    fp.read()\n",
    "    time.sleep(2)\n",
    "    print(fp.read().sum())"
   ]
  }
 ],
 "metadata": {
  "kernelspec": {
   "display_name": "Python 3 (ipykernel)",
   "language": "python",
   "name": "python3"
  },
  "language_info": {
   "codemirror_mode": {
    "name": "ipython",
    "version": 3
   },
   "file_extension": ".py",
   "mimetype": "text/x-python",
   "name": "python",
   "nbconvert_exporter": "python",
   "pygments_lexer": "ipython3",
   "version": "3.10.12"
  }
 },
 "nbformat": 4,
 "nbformat_minor": 5
}
