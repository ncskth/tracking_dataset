{
 "cells": [
  {
   "cell_type": "code",
   "execution_count": 618,
   "id": "abf1788f-ab34-4e73-b1e5-c686352ca428",
   "metadata": {},
   "outputs": [],
   "source": [
    "import aestream\n",
    "import h5py\n",
    "import torch\n",
    "import torchvision\n",
    "import matplotlib.pyplot as plt\n",
    "import numpy as np\n",
    "import tqdm"
   ]
  },
  {
   "cell_type": "code",
   "execution_count": 2,
   "id": "5654d3cd-fdc0-43ee-92c3-37ca17c807c5",
   "metadata": {},
   "outputs": [
    {
     "name": "stdout",
     "output_type": "stream",
     "text": [
      "events.aedat4  frames.h5  metadata.txt\tpositions.json\n"
     ]
    }
   ],
   "source": [
    "!ls ../basic_shapes/2024_01_22_12_01_03_circle_none_trans_right_processed/"
   ]
  },
  {
   "cell_type": "code",
   "execution_count": 3,
   "id": "05a4c66b-d83f-4c3f-b810-51da7861d70f",
   "metadata": {},
   "outputs": [],
   "source": [
    "import sparse"
   ]
  },
  {
   "cell_type": "code",
   "execution_count": 694,
   "id": "2ce63aa9-d621-4ee9-934a-9317acbcea58",
   "metadata": {},
   "outputs": [],
   "source": [
    "# file_rec = \"../basic_shapes/circle/affine/2024_01_30_13_12_31_circle_none_affine_right_processed/frames.h5\"\n",
    "file_rec = \"frames.h5\"\n",
    "# \"../basic_shapes/triangle/affine/2024_02_04_21_13_14_triagle_none_affine_right_processed/frames.h5\""
   ]
  },
  {
   "cell_type": "code",
   "execution_count": 695,
   "id": "6bd379b1-bd69-4601-898f-056a8fd76806",
   "metadata": {},
   "outputs": [],
   "source": [
    "with h5py.File(file_rec) as f:\n",
    "    co = f[\"frame_keys\"][:]\n",
    "    val = torch.from_numpy(f[\"frame_values\"][:]).int()"
   ]
  },
  {
   "cell_type": "code",
   "execution_count": 696,
   "id": "3427c582-66f2-4525-aefc-e8a52cc8c75a",
   "metadata": {},
   "outputs": [],
   "source": [
    "to_list = lambda x: np.array([x[i] for i in range(4)])"
   ]
  },
  {
   "cell_type": "code",
   "execution_count": 697,
   "id": "147c07fe-bc2c-449c-ba92-9c653a3af100",
   "metadata": {},
   "outputs": [
    {
     "name": "stderr",
     "output_type": "stream",
     "text": [
      "100%|██████████████████████████| 1000000/1000000 [00:03<00:00, 275103.87it/s]\n"
     ]
    }
   ],
   "source": [
    "# coos = np.vectorize(to_list, signature=\"()->(4)\")(co)\n",
    "coos = []\n",
    "for i in tqdm.tqdm(co[-1000000:]):\n",
    "    coos.append(to_list(i))"
   ]
  },
  {
   "cell_type": "code",
   "execution_count": 698,
   "id": "e77befba-7f73-47f5-ac1e-8bd1455c2b62",
   "metadata": {},
   "outputs": [],
   "source": [
    "coos = torch.from_numpy(np.array(coos, dtype=np.int64))"
   ]
  },
  {
   "cell_type": "code",
   "execution_count": 699,
   "id": "fc1bad5b-6291-47f5-84be-7c1b7082ae32",
   "metadata": {},
   "outputs": [
    {
     "data": {
      "text/plain": [
       "(torch.Size([1000000, 4]), torch.Size([1000000]))"
      ]
     },
     "execution_count": 699,
     "metadata": {},
     "output_type": "execute_result"
    }
   ],
   "source": [
    "sp = torch.sparse_coo_tensor(coos.T, val[-1000000:])\n",
    "coos.shape, val[-1000000:].shape"
   ]
  },
  {
   "cell_type": "code",
   "execution_count": 700,
   "id": "de8e3061-636d-4712-a6a8-ee42541a47eb",
   "metadata": {},
   "outputs": [
    {
     "data": {
      "text/plain": [
       "tensor(indices=tensor([[7484, 7484, 7484,  ..., 8014, 8014, 8014],\n",
       "                       [   0,    0,    0,  ...,    0,    0,    0],\n",
       "                       [ 939,  940,  941,  ..., 1271, 1272, 1278],\n",
       "                       [ 124,  109,  123,  ...,  105,  583,  591]]),\n",
       "       values=tensor([1, 1, 1,  ..., 1, 1, 1]),\n",
       "       size=(8015, 2, 1280, 720), nnz=1000000, dtype=torch.int32,\n",
       "       layout=torch.sparse_coo)"
      ]
     },
     "execution_count": 700,
     "metadata": {},
     "output_type": "execute_result"
    }
   ],
   "source": [
    "sp"
   ]
  },
  {
   "cell_type": "code",
   "execution_count": 701,
   "id": "e65fbe1b-bbfe-4463-8ac3-d4a115272c33",
   "metadata": {},
   "outputs": [
    {
     "name": "stderr",
     "output_type": "stream",
     "text": [
      "100%|██████████████████████████████████████| 100/100 [00:01<00:00, 92.29it/s]\n"
     ]
    }
   ],
   "source": [
    "def to_frames(frames, start, count):\n",
    "    f = []\n",
    "    for i in tqdm.trange(count):\n",
    "        f.append(frames[i + start].to_dense())\n",
    "    f = torch.stack(f) * 255\n",
    "    zeros = torch.zeros(len(f), 1, *f.shape[2:])\n",
    "    return torch.concat([f, zeros], dim=1).permute(0, 3, 2, 1)\n",
    "\n",
    "video = to_frames(sp, 8014 - 100, 100)"
   ]
  },
  {
   "cell_type": "code",
   "execution_count": null,
   "id": "f495cd7b-159e-4fee-890a-b17675716e0d",
   "metadata": {},
   "outputs": [],
   "source": [
    "torchvision.io.write_video(\"vid.mp4\", video, fps=10)"
   ]
  },
  {
   "cell_type": "code",
   "execution_count": null,
   "id": "20317997-ce26-4582-979a-70b3780e2009",
   "metadata": {},
   "outputs": [],
   "source": [
    "<video src=\"vid.mp4\" autoplay loop controls/>"
   ]
  },
  {
   "cell_type": "markdown",
   "id": "8e100743-9570-458f-8ef0-a51be39cbcca",
   "metadata": {},
   "source": [
    "# Draw masks"
   ]
  },
  {
   "cell_type": "code",
   "execution_count": 683,
   "id": "b1a3c2a3-d0c2-449b-b2c0-397e9d017e23",
   "metadata": {},
   "outputs": [],
   "source": [
    "import math\n",
    "import scipy\n",
    "import cv2\n",
    "triangle_offset =  -0;\n",
    "triangle_width = 0.29;\n",
    "triangle_height =  triangle_width / 2 * math.tan(60 * math.pi / 180);\n",
    "triangle_center = triangle_width * math.sqrt(3) / 3;\n",
    "triangle_polygon = [\n",
    "        [-(triangle_center), 0, 0],\n",
    "        [triangle_height - triangle_center, 0, -triangle_width / 2],\n",
    "        [triangle_height - triangle_center, 0, triangle_width / 2],\n",
    "        [-(triangle_center), 0, 0]\n",
    "]\n",
    "circle_radius = 0.292/2;\n",
    "iterations = 150;\n",
    "circle_polygon = []\n",
    "for i in range(iterations):\n",
    "    circle_polygon.append([\n",
    "        math.sin(2 * math.pi * i / iterations) * circle_radius, \n",
    "        0,\n",
    "        math.cos(2 * math.pi * i / iterations) * circle_radius,\n",
    "    ]);\n",
    "\n",
    "    \n",
    "offset_x = 0.28 / 2 - 0.022154 - 0.05;\n",
    "offset_z = 0.22 / 2 + 0.1 + 0.05;\n",
    "blob_polygon = [\n",
    "    [offset_x, 0, offset_z],\n",
    "    [offset_x + 0.022154, 0, offset_z],\n",
    "    [offset_x + 0.022154, 0, offset_z - 0.1],\n",
    "    [offset_x + 0.022154 + 0.05, 0, offset_z - 0.05 - 0.1],\n",
    "    [offset_x + 0.022154 + 0.05, 0, offset_z - 0.05 - 0.1 - 0.22],\n",
    "    [offset_x + 0.022154 + 0.05 - 0.28, 0, offset_z - 0.05 - 0.1 - 0.22],\n",
    "    [offset_x + 0.022154 + 0.05 - 0.28, 0, offset_z - 0.05 - 0.1 - 0.22 + 0.25],\n",
    "    [offset_x, 0, offset_z],\n",
    "]"
   ]
  },
  {
   "cell_type": "code",
   "execution_count": 703,
   "id": "c3c3ae8e-1217-42a9-8de8-b1f554f14d96",
   "metadata": {},
   "outputs": [
    {
     "data": {
      "text/plain": [
       "(100, 9)"
      ]
     },
     "execution_count": 703,
     "metadata": {},
     "output_type": "execute_result"
    }
   ],
   "source": [
    "with h5py.File(file_rec) as f:\n",
    "    poses = f[\"blob\"][-100:]\n",
    "poses.shape"
   ]
  },
  {
   "cell_type": "code",
   "execution_count": 685,
   "id": "78104106-4e87-49bc-8228-0157c46e9ccb",
   "metadata": {},
   "outputs": [
    {
     "data": {
      "text/plain": [
       "((100, 7), torch.Size([100, 720, 1280, 3]))"
      ]
     },
     "execution_count": 685,
     "metadata": {},
     "output_type": "execute_result"
    }
   ],
   "source": [
    "poses.shape, video.shape"
   ]
  },
  {
   "cell_type": "code",
   "execution_count": 686,
   "id": "0317a891-1410-4f8b-b164-7f7d31bd36dd",
   "metadata": {},
   "outputs": [
    {
     "data": {
      "text/plain": [
       "array([ 8.3294513e+02,  2.9914548e+02, -9.9012536e-01, -6.5459305e-01,\n",
       "       -1.8945864e-01,  7.3019433e-01, -4.9291290e-02], dtype=float32)"
      ]
     },
     "execution_count": 686,
     "metadata": {},
     "output_type": "execute_result"
    }
   ],
   "source": [
    "poses[0]"
   ]
  },
  {
   "cell_type": "code",
   "execution_count": 687,
   "id": "dcd06ea0-4949-4f8a-8c05-d4e2eeb5bf31",
   "metadata": {},
   "outputs": [],
   "source": [
    "camera_matrix = np.array([[1700.74372, 0, 650.172869],\n",
    "                 [0, 1700.74372, 285.398327],\n",
    "                 [0, 0, 1]])\n",
    "vec = np.array([0, 0, 0], dtype=np.float32)\n",
    "distortion_coeff = np.array([0, 0, 0, 0, 0], dtype=np.float32)"
   ]
  },
  {
   "cell_type": "code",
   "execution_count": 808,
   "id": "ee48b1d1-5c96-423f-ac91-05cbf93641f8",
   "metadata": {},
   "outputs": [
    {
     "name": "stdout",
     "output_type": "stream",
     "text": [
      "832.9106 299.3882 0.10640489 -0.0080031995 -0.99012536\n"
     ]
    },
    {
     "data": {
      "text/plain": [
       "array([[[832.94513338, 299.14546632]]])"
      ]
     },
     "execution_count": 808,
     "metadata": {},
     "output_type": "execute_result"
    }
   ],
   "source": [
    "def position_to_pixel(points, pose):\n",
    "    (px, py, cx, cy, cz, qx, qy, qz, qw) = pose\n",
    "    print(px, py, cx, cy, cz)\n",
    "    rotation = scipy.spatial.transform.Rotation.from_quat([qx, qy, qz, qw])\n",
    "    new_points = [[p[0], -p[1], -p[2]] for p in points] # Convert to opencv\n",
    "    rotated_points = rotation.apply(new_points)\n",
    "    relative_points = rotated_points + np.array([cx, -cy, -cz]) # Convert to opencv\n",
    "    projected_points, _ = cv2.projectPoints(relative_points, vec, vec, camera_matrix, distortion_coeff)\n",
    "    cx = camera_matrix[0, 2]\n",
    "    cy = camera_matrix[1, 2]\n",
    "    return projected_points# - np.array([x, 0])\n",
    "    #return projected_points - np.array([cx, cy])) * np.array([-1, 1]) + np.array([cx, cy])\n",
    "    #return (projected_points - np.array([cx, cy])) * np.array([-1, 1]) + np.array([x, y])\n",
    "\n",
    "position_to_pixel([[0, 0, 0]], poses[0])"
   ]
  },
  {
   "cell_type": "code",
   "execution_count": 809,
   "id": "14476c5d-435b-4c95-b848-340a624a1817",
   "metadata": {},
   "outputs": [
    {
     "name": "stderr",
     "output_type": "stream",
     "text": [
      "WARNING:matplotlib.image:Clipping input data to the valid range for imshow with RGB data ([0..1] for floats or [0..255] for integers).\n"
     ]
    },
    {
     "name": "stdout",
     "output_type": "stream",
     "text": [
      "856.32697 309.92465 0.120637015 -0.014165205 -0.99527967\n",
      "856.32697 309.92465 0.120637015 -0.014165205 -0.99527967\n"
     ]
    },
    {
     "data": {
      "image/png": "[encoded data removed]",
      "text/plain": [
       "<Figure size 1200x700 with 1 Axes>"
      ]
     },
     "metadata": {},
     "output_type": "display_data"
    }
   ],
   "source": [
    "def draw_frame(frame, pose, polygon):\n",
    "    f, a = plt.subplots(1, 1, figsize=(12, 7))\n",
    "    a.imshow(frame)\n",
    "    plt.scatter([pose[0]], [pose[1]], marker=\"+\", color=\"white\")\n",
    "    center = position_to_pixel([[0,0,0]], pose).reshape(-1, 2)\n",
    "    plt.scatter([center[0,0]], [center[0,1]], marker=\"x\", color=\"red\")\n",
    "    pixels = position_to_pixel(polygon, pose).reshape(-1, 2)\n",
    "    plt_polygon = plt.Polygon(pixels, color=\"#ffffff50\")\n",
    "    a.add_patch(plt_polygon)\n",
    "\n",
    "n = 70\n",
    "draw_frame(video[n + 8], poses[n], blob_polygon)"
   ]
  },
  {
   "cell_type": "markdown",
   "id": "a59c0de6-1aa2-44c0-94cc-e149cf0bf60b",
   "metadata": {},
   "source": [
    "# Test hdf5 layout"
   ]
  },
  {
   "cell_type": "code",
   "execution_count": null,
   "id": "6c72d56d-40f3-424d-aaa2-ed5d1d74760e",
   "metadata": {},
   "outputs": [],
   "source": [
    "!ls -alh test.hdf5"
   ]
  },
  {
   "cell_type": "code",
   "execution_count": 19,
   "id": "ad6a4701-69dc-4103-9f94-4f8234338ccd",
   "metadata": {},
   "outputs": [
    {
     "name": "stderr",
     "output_type": "stream",
     "text": [
      "100%|███████████████████████████████████████████████████████████████████████████████████████████████| 100000/100000 [01:28<00:00, 1128.61it/s]\n"
     ]
    }
   ],
   "source": [
    "with h5py.File(\"test.hdf5\", \"w\") as f:\n",
    "    for i in tqdm.trange(100000):\n",
    "        arr = np.empty((4, 100000), dtype=np.uint8)\n",
    "        f.create_dataset(str(i), data=arr)"
   ]
  },
  {
   "cell_type": "code",
   "execution_count": 2,
   "id": "557c091f-4a8e-4fac-839c-5e9867877ebf",
   "metadata": {},
   "outputs": [
    {
     "name": "stdout",
     "output_type": "stream",
     "text": [
      "2.66 ms ± 55.8 µs per loop (mean ± std. dev. of 7 runs, 100 loops each)\n"
     ]
    }
   ],
   "source": [
    "%%timeit\n",
    "n = torch.randint(0, 10000, (1,)).item()\n",
    "with h5py.File(\"test.hdf5\", \"r\") as f:\n",
    "    coos = f[f\"{n}\"][:]\n",
    "    t = torch.sparse_coo_tensor(indices=coos, values=torch.ones(len(coos[0])), dtype=torch.int8)\n",
    "t.shape"
   ]
  },
  {
   "cell_type": "code",
   "execution_count": 3,
   "id": "4a4caff9-5b36-40eb-aa2e-46bf01d76fe1",
   "metadata": {},
   "outputs": [
    {
     "name": "stdout",
     "output_type": "stream",
     "text": [
      "253 ms ± 26.4 ms per loop (mean ± std. dev. of 7 runs, 1 loop each)\n"
     ]
    }
   ],
   "source": [
    "%%timeit\n",
    "n = torch.randint(0, 10000, (1,)).item()\n",
    "with h5py.File(\"test.hdf5\", \"r\") as f:\n",
    "    coos = torch.from_numpy(f[f\"{n}\"][:]).cuda()\n",
    "    t = torch.sparse_coo_tensor(indices=coos, values=torch.ones(len(coos[0]), device=\"cuda\"), dtype=torch.int8, device=\"cuda\").to_dense()\n",
    "t.shape"
   ]
  },
  {
   "cell_type": "code",
   "execution_count": 5,
   "id": "203f5f61-0fe3-4302-9154-d98ddf7f2ae6",
   "metadata": {},
   "outputs": [
    {
     "name": "stdout",
     "output_type": "stream",
     "text": [
      "28.8 ms ± 13.2 ms per loop (mean ± std. dev. of 7 runs, 10 loops each)\n"
     ]
    }
   ],
   "source": [
    "%%timeit\n",
    "n = torch.randint(0, 10000, (1,)).item()\n",
    "with h5py.File(\"test.hdf5\", \"r\") as f:\n",
    "    coos = f[f\"{n}\"][:]\n",
    "    t = torch.sparse_coo_tensor(indices=coos, values=torch.ones(len(coos[0])), dtype=torch.int8).to_dense().cuda()\n",
    "t.shape"
   ]
  },
  {
   "cell_type": "markdown",
   "id": "b7909755-5b11-4119-86db-147475cdc1c8",
   "metadata": {},
   "source": [
    "# Test AEStream"
   ]
  },
  {
   "cell_type": "code",
   "execution_count": null,
   "id": "df8d2f27-4888-496b-958d-ce0fcc84e4c0",
   "metadata": {},
   "outputs": [],
   "source": [
    "!ls ../basic_shapes/triangle/affine/2024_02_04_21_13_14_triagle_none_affine_right_processed/"
   ]
  },
  {
   "cell_type": "code",
   "execution_count": null,
   "id": "50467584-679a-4bab-abef-d38e45e9e131",
   "metadata": {},
   "outputs": [],
   "source": [
    "import time\n",
    "with aestream.FileInput(\"../basic_shapes/triangle/affine/2024_02_04_21_13_14_triagle_none_affine_right_processed/events.aedat4\", (1280, 720)) as fp:\n",
    "    fp.read()\n",
    "    time.sleep(2)\n",
    "    print(fp.read().sum())"
   ]
  }
 ],
 "metadata": {
  "kernelspec": {
   "display_name": "Python 3 (ipykernel)",
   "language": "python",
   "name": "python3"
  },
  "language_info": {
   "codemirror_mode": {
    "name": "ipython",
    "version": 3
   },
   "file_extension": ".py",
   "mimetype": "text/x-python",
   "name": "python",
   "nbconvert_exporter": "python",
   "pygments_lexer": "ipython3",
   "version": "3.10.12"
  }
 },
 "nbformat": 4,
 "nbformat_minor": 5
}
